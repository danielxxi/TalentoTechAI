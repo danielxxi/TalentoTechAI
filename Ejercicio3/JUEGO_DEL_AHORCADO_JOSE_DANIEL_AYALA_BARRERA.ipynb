{
  "nbformat": 4,
  "nbformat_minor": 0,
  "metadata": {
    "colab": {
      "provenance": []
    },
    "kernelspec": {
      "name": "python3",
      "display_name": "Python 3"
    },
    "language_info": {
      "name": "python"
    }
  },
  "cells": [
    {
      "cell_type": "markdown",
      "source": [
        "<div class=\"markdown-google-sans\">\n",
        "  <h2>JUEGO DEL AHORCADO</h2>\n",
        "</div>\n",
        "\n",
        "*   José Daniel Ayala Barrera\n",
        "*   Talento Tech\n",
        "*   Inteligencia Artificial\n",
        "*   Módulo Básico\n",
        "*   Abril 2024\n",
        "\n",
        "\n",
        "\n",
        "\n",
        "\n",
        "\n",
        "\n",
        "\n",
        "\n",
        "\n"
      ],
      "metadata": {
        "id": "mRoKP57gRhXy"
      }
    },
    {
      "cell_type": "code",
      "source": [
        "# Importamos librerías\n",
        "import random"
      ],
      "metadata": {
        "id": "FZjrcbpLMzON"
      },
      "execution_count": 44,
      "outputs": []
    },
    {
      "cell_type": "code",
      "source": [
        "#aqui se almacenaran los valores del arreglo\n",
        "palabras = ['gato', 'perro', 'elefante', 'jirafa', 'rinoceronte', 'leon']"
      ],
      "metadata": {
        "id": "IvGj4YAwOn8n"
      },
      "execution_count": 45,
      "outputs": []
    },
    {
      "cell_type": "code",
      "execution_count": 47,
      "metadata": {
        "id": "Cl8315hWLVwf"
      },
      "outputs": [],
      "source": [
        "# Creamos variables del juego\n",
        "\n",
        "palabra_secreta = random.choice(palabras) # elección aleatoria de palabra secreta\n",
        "palabra_oculta = \"_\" * len(palabra_secreta)\n",
        "\n",
        "intentos = 0 # inicializamos contador\n",
        "letras_adivinadas = []"
      ]
    },
    {
      "cell_type": "code",
      "source": [
        "while intentos < 6: # Definimos en 6 el número de intentos\n",
        "\n",
        "    letra = input(\"Ingrese una letra, por favor: \")\n",
        "    if letra in letras_adivinadas:\n",
        "        print(\"Ya adivinó esa letra, Intente nuevamente!!!\")\n",
        "    elif letra in palabra_secreta:\n",
        "        for i in range(len(palabra_secreta)):\n",
        "            if palabra_secreta[i] == letra:\n",
        "                palabra_oculta = palabra_oculta[:i] + letra + palabra_oculta[i+1:]\n",
        "        print(\"Excelente!!! La palabra es:\", palabra_oculta)\n",
        "        if \"_\" not in palabra_oculta:\n",
        "            print(\"Felicitaciones, ha ganado!!!\")\n",
        "            break\n",
        "    else:\n",
        "        intentos += 1\n",
        "        print(\"Letra incorrecta, quedan\", 6-intentos, \"intentos.\")\n",
        "        letras_adivinadas.append(letra)\n",
        "        if intentos == 1:\n",
        "            print(\"  O\")\n",
        "        elif intentos == 2:\n",
        "            print(\"  O\")\n",
        "            print(\"  |\")\n",
        "        elif intentos == 3:\n",
        "            print(\"  O\")\n",
        "            print(\" /|\")\n",
        "        elif intentos == 4:\n",
        "            print(\"  O\")\n",
        "            print(\" /|\\\\\")\n",
        "        elif intentos == 5:\n",
        "            print(\"  O\")\n",
        "            print(\" /|\\\\\")\n",
        "            print(\" /\")\n",
        "        elif intentos == 6:\n",
        "            print(\"  O\")\n",
        "            print(\" /|\\\\\")\n",
        "            print(\" / \\\\\")\n",
        "            print(\"Lo siento, ha perdido!!!. La palabra secreta era\", palabra_secreta)\n",
        "            break"
      ],
      "metadata": {
        "colab": {
          "base_uri": "https://localhost:8080/"
        },
        "id": "LvFCsadrMwRv",
        "outputId": "9ed97fdb-2da3-4bca-8304-a72a1389d91a"
      },
      "execution_count": 39,
      "outputs": [
        {
          "output_type": "stream",
          "name": "stdout",
          "text": [
            "Ingrese una letra, por favor: h\n",
            "Letra incorrecta, quedan 5 intentos.\n",
            "  O\n",
            "Ingrese una letra, por favor: H\n",
            "Excelente!!! La palabra es: H____\n",
            "Ingrese una letra, por favor: a\n",
            "Letra incorrecta, quedan 4 intentos.\n",
            "  O\n",
            "  |\n",
            "Ingrese una letra, por favor: e\n",
            "Excelente!!! La palabra es: He___\n",
            "Ingrese una letra, por favor: a\n",
            "Ya adivinó esa letra, Intente nuevamente!!!\n",
            "Ingrese una letra, por favor: i\n",
            "Excelente!!! La palabra es: Hei_i\n",
            "Ingrese una letra, por favor: d\n",
            "Excelente!!! La palabra es: Heidi\n",
            "Felicitaciones, ha ganado!!!\n"
          ]
        }
      ]
    }
  ]
}