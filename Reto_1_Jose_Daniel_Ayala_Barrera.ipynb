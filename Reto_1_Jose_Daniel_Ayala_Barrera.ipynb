{
  "nbformat": 4,
  "nbformat_minor": 0,
  "metadata": {
    "colab": {
      "provenance": []
    },
    "kernelspec": {
      "name": "python3",
      "display_name": "Python 3"
    },
    "language_info": {
      "name": "python"
    }
  },
  "cells": [
    {
      "cell_type": "markdown",
      "source": [],
      "metadata": {
        "id": "6uIgR2Jet9aL"
      }
    },
    {
      "cell_type": "markdown",
      "metadata": {
        "id": "8g3rgUnb_JDK"
      },
      "source": [
        "# Reto 1\n",
        "\n",
        "### José Daniel Ayala Barrera\n",
        " Se debe calcular la calificación que debe obtener un alumno para aprobar el ciclo. El mínimo para aprobar es 3.5 acumulado. Se deben colocar restrcciones para no aceptar valores negativos ni mayores a 5.0. De igual forma se valida que no inlcuyan texto en inputs numéricos"
      ]
    },
    {
      "cell_type": "markdown",
      "source": [
        "Creamos funciones para calcular ponderaciones de cada calificación"
      ],
      "metadata": {
        "id": "xJAr1j1Yujpo"
      }
    },
    {
      "cell_type": "code",
      "metadata": {
        "id": "m0asgQgWMicI"
      },
      "source": [
        "def calificacion_1(nota_1):\n",
        "  calificacion_1=nota_1*0.15\n",
        "  return(calificacion_1)"
      ],
      "execution_count": 103,
      "outputs": []
    },
    {
      "cell_type": "code",
      "source": [
        "def calificacion_2(nota_2):\n",
        "  calificacion_2=nota_2*0.20\n",
        "  return(calificacion_2)"
      ],
      "metadata": {
        "id": "MTDA3Wq-XJx7"
      },
      "execution_count": 104,
      "outputs": []
    },
    {
      "cell_type": "code",
      "source": [
        "def calificacion_3(nota_3):\n",
        "  calificacion_3=nota_3*0.25\n",
        "  return(calificacion_3)"
      ],
      "metadata": {
        "id": "xjon8GloXJtU"
      },
      "execution_count": 105,
      "outputs": []
    },
    {
      "cell_type": "code",
      "source": [
        "def calificacion_4(nota_4):\n",
        "  calificacion_4=nota_4*0.30\n",
        "  return(calificacion_4)"
      ],
      "metadata": {
        "id": "Wg9ZGN1jXJoo"
      },
      "execution_count": 106,
      "outputs": []
    },
    {
      "cell_type": "code",
      "metadata": {
        "colab": {
          "base_uri": "https://localhost:8080/"
        },
        "id": "TfbIyo6llFcU",
        "outputId": "4edebe4e-bf4b-48bc-941a-7786bdadf423"
      },
      "source": [
        "#Leemos de teclado los datos del nombre del alumno\n",
        "nombre_alumno = input(\"Ingrese nombre del alumno: \")"
      ],
      "execution_count": 107,
      "outputs": [
        {
          "name": "stdout",
          "output_type": "stream",
          "text": [
            "Ingrese nombre del alumno: daniel\n"
          ]
        }
      ]
    },
    {
      "cell_type": "code",
      "source": [
        "#Leemos datos de primera nota\n",
        "while True:\n",
        "    try:\n",
        "        nota_1 = float(input(\"Ingrese el valor de la primera calificación: \"))\n",
        "    except ValueError:\n",
        "        print(\"Valor invalido!!!Debe escribir un número\")\n",
        "        continue\n",
        "\n",
        "    if nota_1 < 0:\n",
        "        print(\"Debe ingresar un número positivo. Intente nuevamente\")\n",
        "        continue\n",
        "    elif nota_1 > 5:\n",
        "        print(\"la calificación no puede ser superior a 5.0. Intente nuevamente\")\n",
        "        continue\n",
        "    else:\n",
        "        break"
      ],
      "metadata": {
        "colab": {
          "base_uri": "https://localhost:8080/"
        },
        "id": "SwNVgwl9V3K1",
        "outputId": "5e92968c-9599-47eb-85e3-6addd263c9bc"
      },
      "execution_count": 108,
      "outputs": [
        {
          "name": "stdout",
          "output_type": "stream",
          "text": [
            "Ingrese el valor de la primera calificación: 1\n"
          ]
        }
      ]
    },
    {
      "cell_type": "code",
      "source": [
        "#Leemos datos de segunda nota\n",
        "while True:\n",
        "    try:\n",
        "        nota_2 = float(input(\"Ingrese el valor de la segunda calificación: \"))\n",
        "    except ValueError:\n",
        "        print(\"Valor invalido!!!Debe escribir un número.\")\n",
        "        continue\n",
        "\n",
        "    if nota_2 < 0:\n",
        "        print(\"Debe ingresar un número positivo.\")\n",
        "        continue\n",
        "    elif nota_2 > 5:\n",
        "        print(\"la calificación no puede ser superior a 5.0. Intente nuevamente\")\n",
        "        continue\n",
        "    else:\n",
        "        break"
      ],
      "metadata": {
        "colab": {
          "base_uri": "https://localhost:8080/"
        },
        "id": "EK0JnUPZWHTD",
        "outputId": "08ec0c81-2e05-4e05-a5fc-6b1be1d7753d"
      },
      "execution_count": 109,
      "outputs": [
        {
          "name": "stdout",
          "output_type": "stream",
          "text": [
            "Ingrese el valor de la segunda calificación: 3\n"
          ]
        }
      ]
    },
    {
      "cell_type": "code",
      "source": [
        "#Leemos datos de tercera nota\n",
        "while True:\n",
        "    try:\n",
        "        nota_3 = float(input(\"Ingrese el valor de la tercera calificación: \"))\n",
        "    except ValueError:\n",
        "        print(\"Valor invalido!!!Debe escribir un número.\")\n",
        "        continue\n",
        "\n",
        "    if nota_3 < 0:\n",
        "        print(\"Debe ingresar un número positivo.\")\n",
        "        continue\n",
        "    elif nota_3 > 5:\n",
        "        print(\"la calificación no puede ser superior a 5.0. Intente nuevamente\")\n",
        "        continue\n",
        "    else:\n",
        "        break"
      ],
      "metadata": {
        "colab": {
          "base_uri": "https://localhost:8080/"
        },
        "id": "TP3T1-ucWIpf",
        "outputId": "4ad683bc-4d57-4bf6-a3e2-7151f07990f9"
      },
      "execution_count": 110,
      "outputs": [
        {
          "name": "stdout",
          "output_type": "stream",
          "text": [
            "Ingrese el valor de la tercera calificación: 1.3\n"
          ]
        }
      ]
    },
    {
      "cell_type": "code",
      "source": [
        "#Leemos datos de cuarta nota\n",
        "while True:\n",
        "    try:\n",
        "        nota_4 = float(input(\"Ingrese el valor de la cuarta calificación: \"))\n",
        "    except ValueError:\n",
        "        print(\"Valor invalido!!!Debe escribir un número.\")\n",
        "        continue\n",
        "\n",
        "    if nota_4 < 0:\n",
        "        print(\"Debe ingresar un número positivo.\")\n",
        "        continue\n",
        "    elif nota_4 > 5:\n",
        "        print(\"la calificación no puede ser superior a 5.0. Intente nuevamente\")\n",
        "        continue\n",
        "    else:\n",
        "        break"
      ],
      "metadata": {
        "colab": {
          "base_uri": "https://localhost:8080/"
        },
        "id": "MdVyKxiNWJKG",
        "outputId": "e51d14e5-57d9-4863-b383-06dfba12005e"
      },
      "execution_count": 111,
      "outputs": [
        {
          "name": "stdout",
          "output_type": "stream",
          "text": [
            "Ingrese el valor de la cuarta calificación: 2\n"
          ]
        }
      ]
    },
    {
      "cell_type": "markdown",
      "source": [
        "Ejecutamos cada función según la nota ingresada"
      ],
      "metadata": {
        "id": "_taW2k94ust1"
      }
    },
    {
      "cell_type": "code",
      "metadata": {
        "id": "Q6kdAX4mheXE"
      },
      "source": [
        "ponderado_1= calificacion_1(nota_1)\n",
        "ponderado_2= calificacion_2(nota_2)\n",
        "ponderado_3= calificacion_3(nota_3)\n",
        "ponderado_4=calificacion_4(nota_4)"
      ],
      "execution_count": 112,
      "outputs": []
    },
    {
      "cell_type": "code",
      "source": [
        "print(ponderado_1)"
      ],
      "metadata": {
        "colab": {
          "base_uri": "https://localhost:8080/"
        },
        "id": "eTGKaIrDrLrq",
        "outputId": "5e4bd5aa-0757-4169-ae27-e37d14e8d83d"
      },
      "execution_count": 113,
      "outputs": [
        {
          "output_type": "stream",
          "name": "stdout",
          "text": [
            "0.15\n"
          ]
        }
      ]
    },
    {
      "cell_type": "code",
      "source": [
        "print(ponderado_2)"
      ],
      "metadata": {
        "colab": {
          "base_uri": "https://localhost:8080/"
        },
        "id": "XoCe_5blrPIJ",
        "outputId": "df7da2c0-d3df-4ea7-f08d-177bb7d58c45"
      },
      "execution_count": 114,
      "outputs": [
        {
          "output_type": "stream",
          "name": "stdout",
          "text": [
            "0.6000000000000001\n"
          ]
        }
      ]
    },
    {
      "cell_type": "code",
      "source": [
        "print(ponderado_3)"
      ],
      "metadata": {
        "colab": {
          "base_uri": "https://localhost:8080/"
        },
        "id": "tIB4B7sFrPDB",
        "outputId": "ab5466d5-c654-4152-80c7-d03f944234e8"
      },
      "execution_count": 115,
      "outputs": [
        {
          "output_type": "stream",
          "name": "stdout",
          "text": [
            "0.325\n"
          ]
        }
      ]
    },
    {
      "cell_type": "code",
      "source": [
        "print(ponderado_4)"
      ],
      "metadata": {
        "colab": {
          "base_uri": "https://localhost:8080/"
        },
        "id": "z0nw1Ce-rO8A",
        "outputId": "effb9db6-7530-49c3-f6a4-2e5709a620ac"
      },
      "execution_count": 116,
      "outputs": [
        {
          "output_type": "stream",
          "name": "stdout",
          "text": [
            "0.6\n"
          ]
        }
      ]
    },
    {
      "cell_type": "code",
      "source": [
        "acumulado= ponderado_1+ponderado_2+ponderado_3+ponderado_4"
      ],
      "metadata": {
        "id": "quAPfiTgpHDV"
      },
      "execution_count": 117,
      "outputs": []
    },
    {
      "cell_type": "code",
      "source": [
        "print(acumulado)"
      ],
      "metadata": {
        "colab": {
          "base_uri": "https://localhost:8080/"
        },
        "id": "cYHFaePdrmJG",
        "outputId": "08e8f4ae-e2c3-4430-f170-b62761955db1"
      },
      "execution_count": 118,
      "outputs": [
        {
          "output_type": "stream",
          "name": "stdout",
          "text": [
            "1.6750000000000003\n"
          ]
        }
      ]
    },
    {
      "cell_type": "code",
      "source": [
        "faltante= (3.5-acumulado)/0.10"
      ],
      "metadata": {
        "id": "wCaQWWttrkF4"
      },
      "execution_count": 119,
      "outputs": []
    },
    {
      "cell_type": "code",
      "source": [
        "if faltante > 5.0:\n",
        "  print(\"Usted ha perdido la materia!!!\")\n",
        "else:\n",
        "  print(\"Estimado alumno \" + nombre_alumno + \" usted debe obtener como calificación: \" + str(faltante) + \" para aprobar la materia con el mínimo permitido de 3.5\")"
      ],
      "metadata": {
        "colab": {
          "base_uri": "https://localhost:8080/"
        },
        "id": "PRtVC6Dmrw2Y",
        "outputId": "b58b69d0-f014-429d-e1f0-742b55d46940"
      },
      "execution_count": 122,
      "outputs": [
        {
          "output_type": "stream",
          "name": "stdout",
          "text": [
            "Usted ha perdido la materia!!!\n"
          ]
        }
      ]
    },
    {
      "cell_type": "markdown",
      "source": [],
      "metadata": {
        "id": "TDMQu1Apt8Le"
      }
    }
  ]
}