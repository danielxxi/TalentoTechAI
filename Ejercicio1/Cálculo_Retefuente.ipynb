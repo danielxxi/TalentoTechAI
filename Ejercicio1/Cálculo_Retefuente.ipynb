{
  "nbformat": 4,
  "nbformat_minor": 0,
  "metadata": {
    "colab": {
      "provenance": []
    },
    "kernelspec": {
      "name": "python3",
      "display_name": "Python 3"
    },
    "language_info": {
      "name": "python"
    }
  },
  "cells": [
    {
      "cell_type": "code",
      "execution_count": 131,
      "metadata": {
        "colab": {
          "base_uri": "https://localhost:8080/"
        },
        "id": "zLwxFkQEjcO3",
        "outputId": "d1e3043e-c1b2-4b69-ef9e-8d711286efd0"
      },
      "outputs": [
        {
          "output_type": "stream",
          "name": "stdout",
          "text": [
            "Ingrese el salario base del empleado en pesos: 2500000\n",
            "El salario ingresado para el empleado es: $2,500,000.00 \n",
            "Descuentos por ley: $225,000.00\n",
            "Salario con descuentos parafiscales: $2,275,000.00\n",
            "No tiene retención\n",
            "\u001b[1mSalario a pagar al empleado: $2,275,000.00\u001b[0m\n"
          ]
        }
      ],
      "source": [
        "#CODIGO EN PHYTON PARA EL CALCULO DE LA RETENCION EN LA FUENTE PARA COLOMBIA AÑO 2024\n",
        "\n",
        "# Por favor ingresar el salario base del Empleado\n",
        "salario_base = float(input(\"Ingrese el salario base del empleado en pesos: \"))\n",
        "print(f\"El salario ingresado para el empleado es: ${salario_base:,.2f} \")\n",
        "\n",
        "# Cáculo de los descuentos de Ley salud pensiones y fondo solidario\n",
        "descuentos_ley = salario_base * 0.09 #9% correspondiente al total de descuentos de ley\n",
        "print (f\"Descuentos por ley: ${descuentos_ley:,.2f}\") #Impresión del valor correspondiente a los descuentos por ley\n",
        "\n",
        "#Cáculo del salario descontando parafiscales\n",
        "salario2 = salario_base-descuentos_ley\n",
        "#Impresion del salario con descuentos parafiscales salud, pensión y fondo solidario\n",
        "print(f\"Salario con descuentos parafiscales: ${salario2:,.2f}\")\n",
        "\n",
        "#Cáculo del salario base para la determinación de la retención en la fuente\n",
        "salario3 = salario2*.75\n",
        "\n",
        "\n",
        "#Cáculo salario sin retención\n",
        "if salario3<4471175:\n",
        "  print(\"No tiene retención\")\n",
        "  #Cálculo final del salario a pagar al empleado despues de parafiscales\n",
        "  salempleado = salario_base-descuentos_ley\n",
        "  #Impresión final del salario a pagar al Empelado\n",
        "  print(\"\\033[1m\" + f\"Salario a pagar al empleado: ${salempleado:,.2f}\"+ \"\\033[0m\")\n",
        "\n",
        "#Cáculo retención del 19%\n",
        "elif salario3<7059750:\n",
        "  print (f\"Salario base para gravamen de retefuente: ${salario3:,.2f}\")\n",
        "  #Cálculo de la retención del 19% de acuerdo al salario base del gravamen\n",
        "  retencion19 = salario3*0.19\n",
        "  print(\"\\033[1m\" + f\"Salario tiene retención del 19% ; ${retencion19:,.2f}\" + \"\\033[0m\")\n",
        "  #Cálculo final del salario a pagar al empleado despues de impuestos y parafiscales\n",
        "  salempleado = salario_base-descuentos_ley-retencion19\n",
        "  #Impresión final del salario a pagar al Empelado\n",
        "  print(\"\\033[1m\" + f\"Salario a pagar al empleado: ${salempleado:,.2f}\"+ \"\\033[0m\")\n",
        "\n",
        "#Cáculo retención del 28%\n",
        "elif salario3<16943400:\n",
        "  print (f\"Salario base para gravamen de retefuente: ${salario3:,.2f}\")\n",
        "  #Cálculo de la retención del 28% de acuerdo al salario base del gravamen\n",
        "  retencion28 = salario3*0.28\n",
        "  print(\"\\033[1m\" + f\"Salario tiene retención del 28% ; ${retencion28:,.2f}\" + \"\\033[0m\")\n",
        "  #Cálculo final del salario a pagar al empleado despues de impuestos y parafiscales\n",
        "  salempleado = salario_base-descuentos_ley-retencion28\n",
        "  #Impresión final del salario a pagar al Empelado\n",
        "  print(\"\\033[1m\" + f\"Salario a pagar al empleado: ${salempleado:,.2f}\"+ \"\\033[0m\")\n",
        "\n",
        "#Cáculo retención del 33%\n",
        "elif salario3<30121600:\n",
        "  print (f\"Salario base para gravamen de retefuente: ${salario3:,.2f}\")\n",
        "  #Cálculo de la retención del 33% de acuerdo al salario base del gravamen\n",
        "  retencion33 = salario3*0.33\n",
        "  print(\"\\033[1m\" + f\"Salario tiene retención del 33% ; ${retencion33:,.2f}\" + \"\\033[0m\")\n",
        "  #Cálculo final del salario a pagar al empleado despues de impuestos y parafiscales\n",
        "  salempleado = salario_base-descuentos_ley-retencion33\n",
        "  #Impresión final del salario a pagar al Empelado\n",
        "  print(\"\\033[1m\" + f\"Salario a pagar al empleado: ${salempleado:,.2f}\"+ \"\\033[0m\")\n",
        "\n",
        "#Cáculo retención del 35%\n",
        "elif salario3<44476425:\n",
        "  print (f\"Salario base para gravamen de retefuente: ${salario3:,.2f}\")\n",
        "  #Cálculo de la retención del 35% de acuerdo al salario base del gravamen\n",
        "  retencion35 = salario3*0.35\n",
        "  print(\"\\033[1m\" + f\"Salario tiene retención del 35% ; ${retencion35:,.2f}\" + \"\\033[0m\")\n",
        "  #Cálculo final del salario a pagar al empleado despues de impuestos y parafiscales\n",
        "  salempleado = salario_base-descuentos_ley-retencion35\n",
        "  #Impresión final del salario a pagar al Empelado\n",
        "  print(\"\\033[1m\" + f\"Salario a pagar al empleado: ${salempleado:,.2f}\"+ \"\\033[0m\")\n",
        "\n",
        "#Cáculo retención del 37%\n",
        "elif salario3<108248500:\n",
        "  print (f\"Salario base para gravamen de retefuente: ${salario3:,.2f}\")\n",
        "  #Cálculo de la retención del 37% de acuerdo al salario base del gravamen\n",
        "  retencion37 = salario3*0.37\n",
        "  print(\"\\033[1m\" + f\"Salario tiene retención del 37% ; ${retencion37:,.2f}\" + \"\\033[0m\")\n",
        "  #Cálculo final del salario a pagar al empleado despues de impuestos y parafiscales\n",
        "  salempleado = salario_base-descuentos_ley-retencion37\n",
        "  #Impresión final del salario a pagar al Empelado\n",
        "  print(\"\\033[1m\" + f\"Salario a pagar al empleado: ${salempleado:,.2f}\"+ \"\\033[0m\")\n",
        "\n",
        "#Cáculo retención del 39%\n",
        "elif salario3<235325000:\n",
        "  print (f\"Salario base para gravamen de retefuente: ${salario3:,.2f}\")\n",
        "  #Cálculo de la retención del 39% de acuerdo al salario base del gravamen\n",
        "  retencion39 = salario3*0.39\n",
        "  print(\"\\033[1m\" + f\"Salario tiene retención del 39% ; ${retencion39:,.2f}\" + \"\\033[0m\")\n",
        "  #Cálculo final del salario a pagar al empleado despues de impuestos y parafiscales\n",
        "  salempleado = salario_base-descuentos_ley-retencion39\n",
        "  #Impresión final del salario a pagar al Empelado\n",
        "  print(\"\\033[1m\" + f\"Salario a pagar al empleado: ${salempleado:,.2f}\"+ \"\\033[0m\")\n",
        "\n"
      ]
    },
    {
      "cell_type": "markdown",
      "source": [],
      "metadata": {
        "id": "qLzbd5fD6TD-"
      }
    }
  ]
}